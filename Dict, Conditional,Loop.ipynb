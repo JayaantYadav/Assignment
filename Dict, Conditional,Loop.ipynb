{
 "cells": [
  {
   "cell_type": "code",
   "execution_count": 1,
   "id": "a5df17be-fab1-4c86-b8b2-8f6df2071c8f",
   "metadata": {},
   "outputs": [],
   "source": [
    "d = {}"
   ]
  },
  {
   "cell_type": "code",
   "execution_count": 2,
   "id": "6d834611-0ae1-4d6a-bba0-8898866ddeaa",
   "metadata": {},
   "outputs": [
    {
     "data": {
      "text/plain": [
       "dict"
      ]
     },
     "execution_count": 2,
     "metadata": {},
     "output_type": "execute_result"
    }
   ],
   "source": [
    "type(d)"
   ]
  },
  {
   "cell_type": "code",
   "execution_count": 3,
   "id": "77731e4f-ef94-4d60-9d6d-e232412ea643",
   "metadata": {},
   "outputs": [],
   "source": [
    "d1 = {\"key\" : \"Jay\"}"
   ]
  },
  {
   "cell_type": "code",
   "execution_count": 4,
   "id": "a351ffed-d9a6-42ce-9387-e17240a9d620",
   "metadata": {},
   "outputs": [
    {
     "data": {
      "text/plain": [
       "{'key': 'Jay'}"
      ]
     },
     "execution_count": 4,
     "metadata": {},
     "output_type": "execute_result"
    }
   ],
   "source": [
    "d1"
   ]
  },
  {
   "cell_type": "code",
   "execution_count": 5,
   "id": "a3c747ee-68db-4942-8939-af5e092c5f52",
   "metadata": {},
   "outputs": [],
   "source": [
    "d2 = {'name' : 'jayant', 'email'  : 'jay@gmail.com', 'number' : 12345}"
   ]
  },
  {
   "cell_type": "code",
   "execution_count": 6,
   "id": "37acd4af-31a5-449f-8d52-c50b57230981",
   "metadata": {},
   "outputs": [
    {
     "data": {
      "text/plain": [
       "{'name': 'jayant', 'email': 'jay@gmail.com', 'number': 12345}"
      ]
     },
     "execution_count": 6,
     "metadata": {},
     "output_type": "execute_result"
    }
   ],
   "source": [
    "d2"
   ]
  },
  {
   "cell_type": "code",
   "execution_count": 7,
   "id": "9a1b5a7c-dd64-4d21-aa2c-86a2dd7a8473",
   "metadata": {},
   "outputs": [],
   "source": [
    "d3 = {234 : 'jay', '@_abc' : 'jay',True : 24234}"
   ]
  },
  {
   "cell_type": "code",
   "execution_count": 8,
   "id": "538121ad-e951-491a-ae7f-9fe7aae4c466",
   "metadata": {},
   "outputs": [
    {
     "data": {
      "text/plain": [
       "{234: 'jay', '@_abc': 'jay', True: 24234}"
      ]
     },
     "execution_count": 8,
     "metadata": {},
     "output_type": "execute_result"
    }
   ],
   "source": [
    "d3"
   ]
  },
  {
   "cell_type": "code",
   "execution_count": 9,
   "id": "7eb5dd04-a390-4628-be86-74abdc0137dc",
   "metadata": {},
   "outputs": [
    {
     "data": {
      "text/plain": [
       "'jay'"
      ]
     },
     "execution_count": 9,
     "metadata": {},
     "output_type": "execute_result"
    }
   ],
   "source": [
    "d3['@_abc']"
   ]
  },
  {
   "cell_type": "code",
   "execution_count": 10,
   "id": "8acebae5-22a7-4377-8243-9e1f69248a1f",
   "metadata": {},
   "outputs": [
    {
     "data": {
      "text/plain": [
       "24234"
      ]
     },
     "execution_count": 10,
     "metadata": {},
     "output_type": "execute_result"
    }
   ],
   "source": [
    "d3[True]"
   ]
  },
  {
   "cell_type": "code",
   "execution_count": 11,
   "id": "974a96a6-96aa-4311-8440-64de69f1f40d",
   "metadata": {},
   "outputs": [
    {
     "data": {
      "text/plain": [
       "24234"
      ]
     },
     "execution_count": 11,
     "metadata": {},
     "output_type": "execute_result"
    }
   ],
   "source": [
    "d3[1]"
   ]
  },
  {
   "cell_type": "code",
   "execution_count": 12,
   "id": "b7ce8481-2cb0-4896-8c19-158f04d2a6de",
   "metadata": {},
   "outputs": [],
   "source": [
    "d4 = {'name' : 'jay', 'mail_id':'abc@gmail.com','name' : 'jayant'} "
   ]
  },
  {
   "cell_type": "code",
   "execution_count": 13,
   "id": "87b09686-bfae-4b06-93e7-6c0cdc31fee4",
   "metadata": {},
   "outputs": [
    {
     "data": {
      "text/plain": [
       "{'name': 'jayant', 'mail_id': 'abc@gmail.com'}"
      ]
     },
     "execution_count": 13,
     "metadata": {},
     "output_type": "execute_result"
    }
   ],
   "source": [
    "d4"
   ]
  },
  {
   "cell_type": "code",
   "execution_count": 14,
   "id": "19220084-a96a-4f8a-a261-1c23762724ed",
   "metadata": {},
   "outputs": [
    {
     "data": {
      "text/plain": [
       "'jayant'"
      ]
     },
     "execution_count": 14,
     "metadata": {},
     "output_type": "execute_result"
    }
   ],
   "source": [
    "d4['name']"
   ]
  },
  {
   "cell_type": "code",
   "execution_count": 15,
   "id": "f5f910cd-d64e-40e8-a288-794b1d3f0999",
   "metadata": {},
   "outputs": [],
   "source": [
    "d5 = {'company' : 'pwskillls', 'courses': ['web dev', 'data science', 'java with dsa system design']}"
   ]
  },
  {
   "cell_type": "code",
   "execution_count": 16,
   "id": "116964ff-2a52-44cd-9323-45e516e90d28",
   "metadata": {},
   "outputs": [
    {
     "data": {
      "text/plain": [
       "{'company': 'pwskillls',\n",
       " 'courses': ['web dev', 'data science', 'java with dsa system design']}"
      ]
     },
     "execution_count": 16,
     "metadata": {},
     "output_type": "execute_result"
    }
   ],
   "source": [
    "d5"
   ]
  },
  {
   "cell_type": "code",
   "execution_count": 17,
   "id": "8e93ed80-58d7-4272-b5ed-5bc06065ec0c",
   "metadata": {},
   "outputs": [
    {
     "data": {
      "text/plain": [
       "'java with dsa system design'"
      ]
     },
     "execution_count": 17,
     "metadata": {},
     "output_type": "execute_result"
    }
   ],
   "source": [
    "d5['courses'][2]"
   ]
  },
  {
   "cell_type": "code",
   "execution_count": 18,
   "id": "9884eb3a-d21d-434b-aa39-23f5c6a458cf",
   "metadata": {},
   "outputs": [],
   "source": [
    "d6 = {'number' : [2,3,43,43,5], \"assignment\" : (1,2,3,4,5,6), 'launch_date' : {28,12,14}, 'class_time' : {'web_dev' :8, 'data science masters' : 8, 'java with dsa and system design' : 7}}"
   ]
  },
  {
   "cell_type": "code",
   "execution_count": 19,
   "id": "28117fa2-c014-4187-8d75-63a36070afe8",
   "metadata": {},
   "outputs": [
    {
     "data": {
      "text/plain": [
       "{'number': [2, 3, 43, 43, 5],\n",
       " 'assignment': (1, 2, 3, 4, 5, 6),\n",
       " 'launch_date': {12, 14, 28},\n",
       " 'class_time': {'web_dev': 8,\n",
       "  'data science masters': 8,\n",
       "  'java with dsa and system design': 7}}"
      ]
     },
     "execution_count": 19,
     "metadata": {},
     "output_type": "execute_result"
    }
   ],
   "source": [
    "d6"
   ]
  },
  {
   "cell_type": "code",
   "execution_count": 20,
   "id": "7ada5615-306f-4419-bf5e-7eaf17e709e0",
   "metadata": {},
   "outputs": [
    {
     "data": {
      "text/plain": [
       "7"
      ]
     },
     "execution_count": 20,
     "metadata": {},
     "output_type": "execute_result"
    }
   ],
   "source": [
    "d6['class_time']['java with dsa and system design']"
   ]
  },
  {
   "cell_type": "code",
   "execution_count": 21,
   "id": "3f0c61c7-a205-41a8-a0f6-3b0b1fd7fd81",
   "metadata": {},
   "outputs": [
    {
     "data": {
      "text/plain": [
       "{'number': [2, 3, 43, 43, 5],\n",
       " 'assignment': (1, 2, 3, 4, 5, 6),\n",
       " 'launch_date': {12, 14, 28},\n",
       " 'class_time': {'web_dev': 8,\n",
       "  'data science masters': 8,\n",
       "  'java with dsa and system design': 7}}"
      ]
     },
     "execution_count": 21,
     "metadata": {},
     "output_type": "execute_result"
    }
   ],
   "source": [
    "d6"
   ]
  },
  {
   "cell_type": "code",
   "execution_count": 22,
   "id": "5f059632-8899-4114-bc52-daf97004d0d1",
   "metadata": {},
   "outputs": [],
   "source": [
    "d6['mentor'] = ['sudhanshu', 'krish','anurag', 'haider']"
   ]
  },
  {
   "cell_type": "code",
   "execution_count": 23,
   "id": "047ac7d0-5c8f-4674-adc6-a7bf7773d8d9",
   "metadata": {},
   "outputs": [
    {
     "data": {
      "text/plain": [
       "{'number': [2, 3, 43, 43, 5],\n",
       " 'assignment': (1, 2, 3, 4, 5, 6),\n",
       " 'launch_date': {12, 14, 28},\n",
       " 'class_time': {'web_dev': 8,\n",
       "  'data science masters': 8,\n",
       "  'java with dsa and system design': 7},\n",
       " 'mentor': ['sudhanshu', 'krish', 'anurag', 'haider']}"
      ]
     },
     "execution_count": 23,
     "metadata": {},
     "output_type": "execute_result"
    }
   ],
   "source": [
    "d6"
   ]
  },
  {
   "cell_type": "code",
   "execution_count": 24,
   "id": "979c010f-d8f1-472d-b086-bd3aaf6d86a9",
   "metadata": {},
   "outputs": [],
   "source": [
    "del d6['number']"
   ]
  },
  {
   "cell_type": "code",
   "execution_count": 25,
   "id": "8b0ea8e1-78e7-4cac-a34c-01691f8d9a28",
   "metadata": {},
   "outputs": [
    {
     "data": {
      "text/plain": [
       "{'assignment': (1, 2, 3, 4, 5, 6),\n",
       " 'launch_date': {12, 14, 28},\n",
       " 'class_time': {'web_dev': 8,\n",
       "  'data science masters': 8,\n",
       "  'java with dsa and system design': 7},\n",
       " 'mentor': ['sudhanshu', 'krish', 'anurag', 'haider']}"
      ]
     },
     "execution_count": 25,
     "metadata": {},
     "output_type": "execute_result"
    }
   ],
   "source": [
    "d6"
   ]
  },
  {
   "cell_type": "code",
   "execution_count": 26,
   "id": "bf34d6b7-a205-4ad8-99e8-1aa7dd59f1e3",
   "metadata": {},
   "outputs": [
    {
     "data": {
      "text/plain": [
       "['assignment', 'launch_date', 'class_time', 'mentor']"
      ]
     },
     "execution_count": 26,
     "metadata": {},
     "output_type": "execute_result"
    }
   ],
   "source": [
    "list(d6.keys())"
   ]
  },
  {
   "cell_type": "code",
   "execution_count": 27,
   "id": "cb2ae4bc-a3b4-405d-9b9c-2da21bdaee7f",
   "metadata": {},
   "outputs": [
    {
     "data": {
      "text/plain": [
       "[(1, 2, 3, 4, 5, 6),\n",
       " {12, 14, 28},\n",
       " {'web_dev': 8,\n",
       "  'data science masters': 8,\n",
       "  'java with dsa and system design': 7},\n",
       " ['sudhanshu', 'krish', 'anurag', 'haider']]"
      ]
     },
     "execution_count": 27,
     "metadata": {},
     "output_type": "execute_result"
    }
   ],
   "source": [
    "list(d6.values())"
   ]
  },
  {
   "cell_type": "code",
   "execution_count": 28,
   "id": "506ba27b-9047-4dcb-997a-6f320e034eba",
   "metadata": {},
   "outputs": [
    {
     "data": {
      "text/plain": [
       "dict_items([('assignment', (1, 2, 3, 4, 5, 6)), ('launch_date', {28, 12, 14}), ('class_time', {'web_dev': 8, 'data science masters': 8, 'java with dsa and system design': 7}), ('mentor', ['sudhanshu', 'krish', 'anurag', 'haider'])])"
      ]
     },
     "execution_count": 28,
     "metadata": {},
     "output_type": "execute_result"
    }
   ],
   "source": [
    "d6.items()"
   ]
  },
  {
   "cell_type": "code",
   "execution_count": 29,
   "id": "3fbfc498-9495-403e-a59c-b84d590dbeea",
   "metadata": {},
   "outputs": [
    {
     "data": {
      "text/plain": [
       "[('assignment', (1, 2, 3, 4, 5, 6)),\n",
       " ('launch_date', {12, 14, 28}),\n",
       " ('class_time',\n",
       "  {'web_dev': 8,\n",
       "   'data science masters': 8,\n",
       "   'java with dsa and system design': 7}),\n",
       " ('mentor', ['sudhanshu', 'krish', 'anurag', 'haider'])]"
      ]
     },
     "execution_count": 29,
     "metadata": {},
     "output_type": "execute_result"
    }
   ],
   "source": [
    "list(d6.items())"
   ]
  },
  {
   "cell_type": "code",
   "execution_count": 30,
   "id": "e0855dba-d4a2-4a6a-a157-c89af55e3d45",
   "metadata": {},
   "outputs": [
    {
     "data": {
      "text/plain": [
       "(1, 2, 3, 4, 5, 6)"
      ]
     },
     "execution_count": 30,
     "metadata": {},
     "output_type": "execute_result"
    }
   ],
   "source": [
    "d6.pop('assignment')"
   ]
  },
  {
   "cell_type": "code",
   "execution_count": 31,
   "id": "73bfd37d-9fcb-4288-8c7e-2169366a2ca0",
   "metadata": {},
   "outputs": [
    {
     "data": {
      "text/plain": [
       "{'launch_date': {12, 14, 28},\n",
       " 'class_time': {'web_dev': 8,\n",
       "  'data science masters': 8,\n",
       "  'java with dsa and system design': 7},\n",
       " 'mentor': ['sudhanshu', 'krish', 'anurag', 'haider']}"
      ]
     },
     "execution_count": 31,
     "metadata": {},
     "output_type": "execute_result"
    }
   ],
   "source": [
    "d6"
   ]
  },
  {
   "cell_type": "code",
   "execution_count": 32,
   "id": "c4abc79f-a54c-409e-8b38-9b482fa94d0c",
   "metadata": {},
   "outputs": [
    {
     "name": "stdout",
     "output_type": "stream",
     "text": [
      "your will be a part of A3 batch\n"
     ]
    }
   ],
   "source": [
    "marks = 10\n",
    "if marks >= 80 :\n",
    "    print('you will be a part of A0 batch')\n",
    "elif marks >= 60 and marks< 80 :\n",
    "    print('you will be a part of A1 batch')\n",
    "elif marks >= 40 and marks< 60 :\n",
    "    print('you will be a part of A2 batch')\n",
    "else :\n",
    "    print('your will be a part of A3 batch')"
   ]
  },
  {
   "cell_type": "code",
   "execution_count": 33,
   "id": "b2a23ae1-1f4b-486b-9a1d-8203c27a1026",
   "metadata": {},
   "outputs": [
    {
     "data": {
      "text/plain": [
       "False"
      ]
     },
     "execution_count": 33,
     "metadata": {},
     "output_type": "execute_result"
    }
   ],
   "source": [
    "10 >=80"
   ]
  },
  {
   "cell_type": "code",
   "execution_count": 34,
   "id": "081cfad4-6a7f-4940-adc2-ec2fec89c52d",
   "metadata": {},
   "outputs": [
    {
     "name": "stdin",
     "output_type": "stream",
     "text": [
      "enter your marks 55\n"
     ]
    },
    {
     "name": "stdout",
     "output_type": "stream",
     "text": [
      "you will be a part of A2 batch\n"
     ]
    }
   ],
   "source": [
    "marks = int(input('enter your marks'))\n",
    "if marks >= 80 :\n",
    "    print('you will be a part of A0 batch')\n",
    "elif marks >= 60 and marks< 80 :\n",
    "    print('you will be a part of A1 batch')\n",
    "elif marks >= 40 and marks< 60 :\n",
    "    print('you will be a part of A2 batch')\n",
    "else :\n",
    "    print('your will be a part of A3 batch')"
   ]
  },
  {
   "cell_type": "code",
   "execution_count": 35,
   "id": "b194b7bd-b367-4772-ba0a-f6e21db697d5",
   "metadata": {},
   "outputs": [
    {
     "name": "stdin",
     "output_type": "stream",
     "text": [
      "enter your marks 55\n"
     ]
    }
   ],
   "source": [
    "marks = int(input(\"enter your marks\"))"
   ]
  },
  {
   "cell_type": "code",
   "execution_count": 36,
   "id": "c82de029-2070-4117-b976-4af2aca16d38",
   "metadata": {},
   "outputs": [
    {
     "data": {
      "text/plain": [
       "int"
      ]
     },
     "execution_count": 36,
     "metadata": {},
     "output_type": "execute_result"
    }
   ],
   "source": [
    "type(marks)"
   ]
  },
  {
   "cell_type": "code",
   "execution_count": 37,
   "id": "e323f996-bb86-436f-ab8a-803bc3d09abc",
   "metadata": {},
   "outputs": [
    {
     "name": "stdin",
     "output_type": "stream",
     "text": [
      "enter price 45\n"
     ]
    },
    {
     "name": "stdout",
     "output_type": "stream",
     "text": [
      "i will purchase\n"
     ]
    }
   ],
   "source": [
    "price = int(input('enter price'))\n",
    "if price > 1000:\n",
    "    print('i will not purchase')\n",
    "else:\n",
    "    print('i will purchase')"
   ]
  },
  {
   "cell_type": "code",
   "execution_count": 38,
   "id": "730cd7ba-1182-49d5-9883-c9d2eb334ce4",
   "metadata": {},
   "outputs": [
    {
     "name": "stdin",
     "output_type": "stream",
     "text": [
      "enter price 1000\n"
     ]
    },
    {
     "name": "stdout",
     "output_type": "stream",
     "text": [
      "i will purchase\n"
     ]
    }
   ],
   "source": [
    "price = int(input('enter price'))\n",
    "if price > 1000:\n",
    "    print('i will not purchase')\n",
    "else:\n",
    "    print('i will purchase')"
   ]
  },
  {
   "cell_type": "code",
   "execution_count": 39,
   "id": "783c54c9-0554-40cc-92ff-62a75046d6b6",
   "metadata": {},
   "outputs": [
    {
     "name": "stdin",
     "output_type": "stream",
     "text": [
      "enter price 10000\n"
     ]
    },
    {
     "name": "stdout",
     "output_type": "stream",
     "text": [
      "i will not purchase\n",
      "this is too much\n"
     ]
    }
   ],
   "source": [
    "price = int(input('enter price'))\n",
    "if price > 1000:\n",
    "    print('i will not purchase')\n",
    "    if price > 5000:\n",
    "        print('this is too much')\n",
    "    elif price < 2000:\n",
    "        print('its ok')\n",
    "elif price < 1000:\n",
    "    print('i will purchase')\n",
    "else:\n",
    "    print('not interested')"
   ]
  },
  {
   "cell_type": "code",
   "execution_count": 40,
   "id": "32113162-d489-4a38-99f3-747236ab9fb0",
   "metadata": {},
   "outputs": [
    {
     "name": "stdin",
     "output_type": "stream",
     "text": [
      "enter price 2000\n"
     ]
    },
    {
     "name": "stdout",
     "output_type": "stream",
     "text": [
      "i will not purchase\n"
     ]
    }
   ],
   "source": [
    "price = int(input('enter price'))\n",
    "if price > 1000:\n",
    "    print('i will not purchase')\n",
    "    if price > 5000:\n",
    "        print('this is too much')\n",
    "    elif price < 2000:\n",
    "        print('its ok')\n",
    "else:\n",
    "    print('not interested')\n",
    "    print('i wil not purchase')\n",
    "    if price >5000:\n",
    "        print('this is too much')\n",
    "    elif price < 2000:\n",
    "        print('its ok')"
   ]
  },
  {
   "cell_type": "code",
   "execution_count": 41,
   "id": "e0b47854-668d-41fc-9db6-afe270b6027f",
   "metadata": {},
   "outputs": [
    {
     "name": "stdin",
     "output_type": "stream",
     "text": [
      "enter price 3000\n"
     ]
    },
    {
     "name": "stdout",
     "output_type": "stream",
     "text": [
      "i will not purchase\n"
     ]
    }
   ],
   "source": [
    "price = int(input('enter price'))\n",
    "if price > 1000:\n",
    "    print('i will not purchase')\n",
    "    if price > 5000:\n",
    "        print('this is too much')\n",
    "    elif price < 2000:\n",
    "        print('its ok')\n",
    "else:\n",
    "    print('not interested')\n",
    "    print('i wil not purchase')\n",
    "    if price >5000:\n",
    "        print('this is too much')\n",
    "    elif price < 2000:\n",
    "        print('its ok')"
   ]
  },
  {
   "cell_type": "code",
   "execution_count": 42,
   "id": "d87e1225-7eb5-427d-886d-9fc2e3eb44e8",
   "metadata": {},
   "outputs": [
    {
     "name": "stdin",
     "output_type": "stream",
     "text": [
      "enter price 4000\n"
     ]
    },
    {
     "name": "stdout",
     "output_type": "stream",
     "text": [
      "i will not purchase\n"
     ]
    }
   ],
   "source": [
    "price = int(input('enter price'))\n",
    "if price > 1000:\n",
    "    print('i will not purchase')\n",
    "    if price > 5000:\n",
    "        print('this is too much')\n",
    "    elif price < 2000:\n",
    "        print('its ok')\n",
    "else:\n",
    "    print('not interested')\n",
    "    print('i wil not purchase')\n",
    "    if price >5000:\n",
    "        print('this is too much')\n",
    "    elif price < 2000:\n",
    "        print('its ok')"
   ]
  },
  {
   "cell_type": "code",
   "execution_count": 43,
   "id": "8ecbc192-4579-4d3f-88f4-a6311ef45b8b",
   "metadata": {},
   "outputs": [],
   "source": [
    "l = [1,2,3,4,5,6,7,8]"
   ]
  },
  {
   "cell_type": "code",
   "execution_count": 44,
   "id": "5d02c75f-18df-40de-8e57-82ecd268f325",
   "metadata": {},
   "outputs": [
    {
     "data": {
      "text/plain": [
       "2"
      ]
     },
     "execution_count": 44,
     "metadata": {},
     "output_type": "execute_result"
    }
   ],
   "source": [
    "l[0]+1"
   ]
  },
  {
   "cell_type": "code",
   "execution_count": 45,
   "id": "b2d38306-2002-4e74-ab24-9aa3fe05b313",
   "metadata": {},
   "outputs": [],
   "source": [
    "l1 = []"
   ]
  },
  {
   "cell_type": "code",
   "execution_count": 46,
   "id": "6936a3e6-e39e-4ee1-8028-f0e8fe24d235",
   "metadata": {},
   "outputs": [],
   "source": [
    "l1.append(l[0])"
   ]
  },
  {
   "cell_type": "code",
   "execution_count": 47,
   "id": "43e9cef3-def6-40e2-a7a3-481af4a8ca46",
   "metadata": {},
   "outputs": [],
   "source": [
    "l = [1,2,3,4,5,6,7,8]"
   ]
  },
  {
   "cell_type": "code",
   "execution_count": 48,
   "id": "3c8bedcd-24d3-46ee-ab91-f0eee3558213",
   "metadata": {},
   "outputs": [
    {
     "name": "stdout",
     "output_type": "stream",
     "text": [
      "2\n",
      "3\n",
      "4\n",
      "5\n",
      "6\n",
      "7\n",
      "8\n",
      "9\n"
     ]
    },
    {
     "data": {
      "text/plain": [
       "[2, 3, 4, 5, 6, 7, 8, 9]"
      ]
     },
     "execution_count": 48,
     "metadata": {},
     "output_type": "execute_result"
    }
   ],
   "source": [
    "l1 = []\n",
    "for i in l:\n",
    "    print(i+1)\n",
    "    l1.append(i+1)\n",
    "l1"
   ]
  },
  {
   "cell_type": "code",
   "execution_count": 49,
   "id": "f4d79b20-bb29-4d19-a7af-cd042a0668e2",
   "metadata": {},
   "outputs": [
    {
     "data": {
      "text/plain": [
       "[2, 3, 4, 5, 6, 7, 8, 9]"
      ]
     },
     "execution_count": 49,
     "metadata": {},
     "output_type": "execute_result"
    }
   ],
   "source": [
    "l1"
   ]
  },
  {
   "cell_type": "code",
   "execution_count": 58,
   "id": "4236872d-72b4-45ac-a3f1-d8b1b26c67ba",
   "metadata": {},
   "outputs": [],
   "source": [
    "l = ['jay','yadav','pwsills','courses']"
   ]
  },
  {
   "cell_type": "code",
   "execution_count": 59,
   "id": "6e6b183f-eb37-4d1c-960c-c32c8a681ae4",
   "metadata": {},
   "outputs": [
    {
     "name": "stdout",
     "output_type": "stream",
     "text": [
      "jay\n",
      "yadav\n",
      "pwsills\n",
      "courses\n"
     ]
    },
    {
     "data": {
      "text/plain": [
       "['JAY', 'YADAV', 'PWSILLS', 'COURSES']"
      ]
     },
     "execution_count": 59,
     "metadata": {},
     "output_type": "execute_result"
    }
   ],
   "source": [
    "l2 = []\n",
    "for i in l:\n",
    "    print(i)\n",
    "    l2.append(i.upper())\n",
    "l2\n",
    "    "
   ]
  },
  {
   "cell_type": "code",
   "execution_count": 60,
   "id": "701778b4-1bce-4d68-aee1-2a0321948ff8",
   "metadata": {},
   "outputs": [
    {
     "data": {
      "text/plain": [
       "['JAY', 'YADAV', 'PWSILLS', 'COURSES']"
      ]
     },
     "execution_count": 60,
     "metadata": {},
     "output_type": "execute_result"
    }
   ],
   "source": [
    "l2"
   ]
  },
  {
   "cell_type": "code",
   "execution_count": 61,
   "id": "9eef4124-15c6-401a-ad0a-39f43fc8d79d",
   "metadata": {},
   "outputs": [],
   "source": [
    "l = [1,2,3,4,'jay','yadav',32.22,'abc']"
   ]
  },
  {
   "cell_type": "code",
   "execution_count": 62,
   "id": "cfa9649c-acc1-49b7-bae8-d10920d16246",
   "metadata": {},
   "outputs": [],
   "source": [
    "l3_num = []\n",
    "l4_str = []\n",
    "for i in l:\n",
    "    if type (i) == int or type (i) == float :\n",
    "        l3_num.append(i)\n",
    "    else:\n",
    "        l4_str.append(i)  "
   ]
  },
  {
   "cell_type": "code",
   "execution_count": 63,
   "id": "e5b0dccc-2f69-472e-8731-424d6224cb22",
   "metadata": {},
   "outputs": [
    {
     "data": {
      "text/plain": [
       "[1, 2, 3, 4, 32.22]"
      ]
     },
     "execution_count": 63,
     "metadata": {},
     "output_type": "execute_result"
    }
   ],
   "source": [
    "l3_num"
   ]
  },
  {
   "cell_type": "code",
   "execution_count": 64,
   "id": "159f320e-d2b2-47b2-8ba1-a3f9a69bd8b9",
   "metadata": {},
   "outputs": [
    {
     "data": {
      "text/plain": [
       "['jay', 'yadav', 'abc']"
      ]
     },
     "execution_count": 64,
     "metadata": {},
     "output_type": "execute_result"
    }
   ],
   "source": [
    "l4_str"
   ]
  },
  {
   "cell_type": "code",
   "execution_count": null,
   "id": "9cb04f6b-d88e-49ff-b118-6cb9e9a35fe7",
   "metadata": {},
   "outputs": [],
   "source": []
  }
 ],
 "metadata": {
  "kernelspec": {
   "display_name": "Python 3 (ipykernel)",
   "language": "python",
   "name": "python3"
  },
  "language_info": {
   "codemirror_mode": {
    "name": "ipython",
    "version": 3
   },
   "file_extension": ".py",
   "mimetype": "text/x-python",
   "name": "python",
   "nbconvert_exporter": "python",
   "pygments_lexer": "ipython3",
   "version": "3.10.8"
  }
 },
 "nbformat": 4,
 "nbformat_minor": 5
}
